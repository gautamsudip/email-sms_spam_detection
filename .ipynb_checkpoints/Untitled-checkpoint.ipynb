{
 "cells": [
  {
   "cell_type": "code",
   "execution_count": null,
   "id": "3dfda35f-a0de-477e-aea6-3ac25ecb1771",
   "metadata": {},
   "outputs": [],
   "source": [
    "import nbformat\n",
    "\n",
    "# Load the notebook\n",
    "with open('email_sms_spam_detection.ipynb', 'r') as f:\n",
    "    notebook_content = nbformat.read(f, as_version=4)\n",
    "\n",
    "# Iterate through each cell and print its content\n",
    "for cell in notebook_content.cells:\n",
    "    if cell.cell_type == 'code':\n",
    "        print(\"Code Cell:\")\n",
    "        print(cell.source)\n",
    "    elif cell.cell_type == 'markdown':\n",
    "        print(\"Markdown Cell:\")\n",
    "        print(cell.source)\n",
    "    # You can add more conditions for other cell types like 'raw'\n"
   ]
  }
 ],
 "metadata": {
  "kernelspec": {
   "display_name": "Python 3 (ipykernel)",
   "language": "python",
   "name": "python3"
  },
  "language_info": {
   "codemirror_mode": {
    "name": "ipython",
    "version": 3
   },
   "file_extension": ".py",
   "mimetype": "text/x-python",
   "name": "python",
   "nbconvert_exporter": "python",
   "pygments_lexer": "ipython3",
   "version": "3.12.1"
  }
 },
 "nbformat": 4,
 "nbformat_minor": 5
}
